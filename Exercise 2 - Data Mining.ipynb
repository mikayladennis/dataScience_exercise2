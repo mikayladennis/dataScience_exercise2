{
 "cells": [
  {
   "cell_type": "code",
   "execution_count": 1,
   "metadata": {},
   "outputs": [],
   "source": [
    "import pandas as pd\n",
    "import seaborn as sns\n",
    "import matplotlib.pyplot as plt\n",
    "import numpy as np\n",
    "%matplotlib inline"
   ]
  },
  {
   "cell_type": "code",
   "execution_count": 2,
   "metadata": {},
   "outputs": [],
   "source": [
    "df = pd.read_csv(\"dstest.csv\")"
   ]
  },
  {
   "cell_type": "code",
   "execution_count": 3,
   "metadata": {},
   "outputs": [
    {
     "data": {
      "text/html": [
       "<div>\n",
       "<style scoped>\n",
       "    .dataframe tbody tr th:only-of-type {\n",
       "        vertical-align: middle;\n",
       "    }\n",
       "\n",
       "    .dataframe tbody tr th {\n",
       "        vertical-align: top;\n",
       "    }\n",
       "\n",
       "    .dataframe thead th {\n",
       "        text-align: right;\n",
       "    }\n",
       "</style>\n",
       "<table border=\"1\" class=\"dataframe\">\n",
       "  <thead>\n",
       "    <tr style=\"text-align: right;\">\n",
       "      <th></th>\n",
       "      <th>company</th>\n",
       "      <th>live</th>\n",
       "      <th>mediaEngine</th>\n",
       "      <th>p2p</th>\n",
       "      <th>cdn</th>\n",
       "      <th>upload</th>\n",
       "      <th>peers_count</th>\n",
       "      <th>peers_match</th>\n",
       "      <th>timestamp</th>\n",
       "      <th>sessionDuration</th>\n",
       "      <th>playbackErrorCount</th>\n",
       "      <th>totalPlaybackErrorCount</th>\n",
       "      <th>content</th>\n",
       "    </tr>\n",
       "  </thead>\n",
       "  <tbody>\n",
       "    <tr>\n",
       "      <th>0</th>\n",
       "      <td>Streamroot TV</td>\n",
       "      <td>VOD</td>\n",
       "      <td>ME1</td>\n",
       "      <td>0.0</td>\n",
       "      <td>8507376.0</td>\n",
       "      <td>0.0</td>\n",
       "      <td>0.0</td>\n",
       "      <td>1</td>\n",
       "      <td>1562469807407</td>\n",
       "      <td>120000.0</td>\n",
       "      <td>0</td>\n",
       "      <td>0</td>\n",
       "      <td>content-09235</td>\n",
       "    </tr>\n",
       "    <tr>\n",
       "      <th>1</th>\n",
       "      <td>Streamroot TV</td>\n",
       "      <td>VOD</td>\n",
       "      <td>ME1</td>\n",
       "      <td>0.0</td>\n",
       "      <td>5778744.0</td>\n",
       "      <td>0.0</td>\n",
       "      <td>0.0</td>\n",
       "      <td>0</td>\n",
       "      <td>1562469927310</td>\n",
       "      <td>240000.0</td>\n",
       "      <td>0</td>\n",
       "      <td>0</td>\n",
       "      <td>content-09235</td>\n",
       "    </tr>\n",
       "    <tr>\n",
       "      <th>2</th>\n",
       "      <td>Streamroot TV</td>\n",
       "      <td>VOD</td>\n",
       "      <td>ME1</td>\n",
       "      <td>0.0</td>\n",
       "      <td>7692960.0</td>\n",
       "      <td>0.0</td>\n",
       "      <td>0.0</td>\n",
       "      <td>0</td>\n",
       "      <td>1562470047330</td>\n",
       "      <td>360000.0</td>\n",
       "      <td>0</td>\n",
       "      <td>0</td>\n",
       "      <td>content-09235</td>\n",
       "    </tr>\n",
       "    <tr>\n",
       "      <th>3</th>\n",
       "      <td>Streamroot TV</td>\n",
       "      <td>VOD</td>\n",
       "      <td>ME1</td>\n",
       "      <td>0.0</td>\n",
       "      <td>8229888.0</td>\n",
       "      <td>0.0</td>\n",
       "      <td>0.0</td>\n",
       "      <td>0</td>\n",
       "      <td>1562470167720</td>\n",
       "      <td>480000.0</td>\n",
       "      <td>0</td>\n",
       "      <td>0</td>\n",
       "      <td>content-09235</td>\n",
       "    </tr>\n",
       "    <tr>\n",
       "      <th>4</th>\n",
       "      <td>Streamroot TV</td>\n",
       "      <td>VOD</td>\n",
       "      <td>ME1</td>\n",
       "      <td>0.0</td>\n",
       "      <td>10387000.0</td>\n",
       "      <td>0.0</td>\n",
       "      <td>0.0</td>\n",
       "      <td>0</td>\n",
       "      <td>1562470287353</td>\n",
       "      <td>600000.0</td>\n",
       "      <td>0</td>\n",
       "      <td>0</td>\n",
       "      <td>content-09235</td>\n",
       "    </tr>\n",
       "  </tbody>\n",
       "</table>\n",
       "</div>"
      ],
      "text/plain": [
       "         company live mediaEngine  p2p         cdn  upload  peers_count  \\\n",
       "0  Streamroot TV  VOD         ME1  0.0   8507376.0     0.0          0.0   \n",
       "1  Streamroot TV  VOD         ME1  0.0   5778744.0     0.0          0.0   \n",
       "2  Streamroot TV  VOD         ME1  0.0   7692960.0     0.0          0.0   \n",
       "3  Streamroot TV  VOD         ME1  0.0   8229888.0     0.0          0.0   \n",
       "4  Streamroot TV  VOD         ME1  0.0  10387000.0     0.0          0.0   \n",
       "\n",
       "   peers_match      timestamp  sessionDuration  playbackErrorCount  \\\n",
       "0            1  1562469807407         120000.0                   0   \n",
       "1            0  1562469927310         240000.0                   0   \n",
       "2            0  1562470047330         360000.0                   0   \n",
       "3            0  1562470167720         480000.0                   0   \n",
       "4            0  1562470287353         600000.0                   0   \n",
       "\n",
       "   totalPlaybackErrorCount        content  \n",
       "0                        0  content-09235  \n",
       "1                        0  content-09235  \n",
       "2                        0  content-09235  \n",
       "3                        0  content-09235  \n",
       "4                        0  content-09235  "
      ]
     },
     "execution_count": 3,
     "metadata": {},
     "output_type": "execute_result"
    }
   ],
   "source": [
    "df.head()"
   ]
  },
  {
   "cell_type": "markdown",
   "metadata": {},
   "source": [
    "## Question 1 \n",
    "Knowing the goal of the our technology, define a metric to measure our performance. Calculate that performance score for each of the companies in the dataset.\n"
   ]
  },
  {
   "cell_type": "code",
   "execution_count": 4,
   "metadata": {},
   "outputs": [],
   "source": [
    "# Considered useful if viewers are downloading content more from p2p than cdn\n",
    "# Calling this \"Utility Rate\" for the p2p network\n",
    "\n",
    "def get_utility_rate(p2p_downloads, cdn_downloads):\n",
    "    # If either download is greater than 0, take ratio\n",
    "    if cdn_downloads > 0 or p2p_downloads > 0:\n",
    "        if cdn_downloads == 0:\n",
    "            cdn_downloads = 0.0000000001 # To prevent dividing by zero\n",
    "        \n",
    "        ratio = p2p_downloads / cdn_downloads\n",
    "        \n",
    "        # Convert to values in range [0,1]\n",
    "        utility_rate = np.arctan(ratio) * (2/np.pi)\n",
    "        \n",
    "    # If both are zero, don't take ratio\n",
    "    else:\n",
    "        utility_rate = np.nan\n",
    "    \n",
    "    return utility_rate"
   ]
  },
  {
   "cell_type": "code",
   "execution_count": 5,
   "metadata": {},
   "outputs": [],
   "source": [
    "# Get performance score for each company\n",
    "def utility_rate_by_company(df, company):\n",
    "    p2p_downloads = df.loc[df['company'] == company, 'p2p'].sum()\n",
    "    cdn_downloads = df.loc[df['company'] == company, 'cdn'].sum()\n",
    "    \n",
    "    utility_rate = get_utility_rate(p2p_downloads, cdn_downloads) \n",
    "    return utility_rate\n",
    "    "
   ]
  },
  {
   "cell_type": "code",
   "execution_count": 6,
   "metadata": {},
   "outputs": [
    {
     "name": "stdout",
     "output_type": "stream",
     "text": [
      "Streamroot TV had a performance score of 0.5600304677186928\n",
      "Flash Infos had a performance score of 0.3670744797278995\n",
      "Sports News had a performance score of 0.17492937508887912\n"
     ]
    }
   ],
   "source": [
    "for company in df.company.unique():\n",
    "    print(company, 'had a performance score of', utility_rate_by_company(df, company))"
   ]
  },
  {
   "cell_type": "markdown",
   "metadata": {},
   "source": [
    "## Question 2\n",
    "### 2.1\n",
    "How can we know whether a payload is the first payload of a viewer’s\n",
    "session?"
   ]
  },
  {
   "cell_type": "markdown",
   "metadata": {},
   "source": [
    "Answer: The payload would be the first of a viewer's session if the sessionDuration is less than or equal to 2 minutes, since the payloads are sent every two minutes."
   ]
  },
  {
   "cell_type": "markdown",
   "metadata": {},
   "source": [
    "### 2.2 \n",
    "Add a column `isFirstPayload` to the dataset, that must be `True` if the row represents a payload that was the first payload sent by a viewer, and `False` otherwise."
   ]
  },
  {
   "cell_type": "code",
   "execution_count": 7,
   "metadata": {},
   "outputs": [],
   "source": [
    "df['isFirstPayload'] = (df.sessionDuration <= 120000)"
   ]
  },
  {
   "cell_type": "markdown",
   "metadata": {},
   "source": [
    "### 2.3\n",
    "Use that column to calculate the number of distinct viewers that sent payloads for each company."
   ]
  },
  {
   "cell_type": "code",
   "execution_count": 8,
   "metadata": {},
   "outputs": [
    {
     "name": "stdout",
     "output_type": "stream",
     "text": [
      "Streamroot TV had 19914 distinct viewers that sent payloads\n",
      "Flash Infos had 805 distinct viewers that sent payloads\n",
      "Sports News had 115 distinct viewers that sent payloads\n"
     ]
    }
   ],
   "source": [
    "for company in df.company.unique():\n",
    "    print(company, 'had', df.loc[df['company'] == company, 'isFirstPayload'].sum(), 'distinct viewers that sent payloads')"
   ]
  },
  {
   "cell_type": "markdown",
   "metadata": {},
   "source": [
    "## Question 3"
   ]
  },
  {
   "cell_type": "markdown",
   "metadata": {},
   "source": [
    "### 3.1 \n",
    "Let’s consider a viewer A who starts a video at T=0, then has a playback error at __T = 2 minutes 30 seconds__, and then another one at __T=6 minutes 20 seconds__. What will be the values of the fields `playbackErrorCount` and `totalPlaybackErrorCount` in the first 5 payloads sent by viewer A?"
   ]
  },
  {
   "cell_type": "code",
   "execution_count": 9,
   "metadata": {},
   "outputs": [],
   "source": [
    "first_5 = pd.DataFrame(columns=[\"payload_number\", \"playbackErrorCount\", \"totalPlaybackErrorCount\"], \n",
    "                              data=[[1,0,0], [2,1,1], [3,0,1], [4,1,2], [5,0,2]])"
   ]
  },
  {
   "cell_type": "code",
   "execution_count": 10,
   "metadata": {},
   "outputs": [
    {
     "data": {
      "text/html": [
       "<div>\n",
       "<style scoped>\n",
       "    .dataframe tbody tr th:only-of-type {\n",
       "        vertical-align: middle;\n",
       "    }\n",
       "\n",
       "    .dataframe tbody tr th {\n",
       "        vertical-align: top;\n",
       "    }\n",
       "\n",
       "    .dataframe thead th {\n",
       "        text-align: right;\n",
       "    }\n",
       "</style>\n",
       "<table border=\"1\" class=\"dataframe\">\n",
       "  <thead>\n",
       "    <tr style=\"text-align: right;\">\n",
       "      <th></th>\n",
       "      <th>payload_number</th>\n",
       "      <th>playbackErrorCount</th>\n",
       "      <th>totalPlaybackErrorCount</th>\n",
       "    </tr>\n",
       "  </thead>\n",
       "  <tbody>\n",
       "    <tr>\n",
       "      <th>0</th>\n",
       "      <td>1</td>\n",
       "      <td>0</td>\n",
       "      <td>0</td>\n",
       "    </tr>\n",
       "    <tr>\n",
       "      <th>1</th>\n",
       "      <td>2</td>\n",
       "      <td>1</td>\n",
       "      <td>1</td>\n",
       "    </tr>\n",
       "    <tr>\n",
       "      <th>2</th>\n",
       "      <td>3</td>\n",
       "      <td>0</td>\n",
       "      <td>1</td>\n",
       "    </tr>\n",
       "    <tr>\n",
       "      <th>3</th>\n",
       "      <td>4</td>\n",
       "      <td>1</td>\n",
       "      <td>2</td>\n",
       "    </tr>\n",
       "    <tr>\n",
       "      <th>4</th>\n",
       "      <td>5</td>\n",
       "      <td>0</td>\n",
       "      <td>2</td>\n",
       "    </tr>\n",
       "  </tbody>\n",
       "</table>\n",
       "</div>"
      ],
      "text/plain": [
       "   payload_number  playbackErrorCount  totalPlaybackErrorCount\n",
       "0               1                   0                        0\n",
       "1               2                   1                        1\n",
       "2               3                   0                        1\n",
       "3               4                   1                        2\n",
       "4               5                   0                        2"
      ]
     },
     "execution_count": 10,
     "metadata": {},
     "output_type": "execute_result"
    }
   ],
   "source": [
    "first_5"
   ]
  },
  {
   "cell_type": "markdown",
   "metadata": {},
   "source": [
    "### 3.2 \n",
    "Calculate the number of distinct viewers that had at least 1 playback error during their session."
   ]
  },
  {
   "cell_type": "code",
   "execution_count": 11,
   "metadata": {},
   "outputs": [
    {
     "name": "stdout",
     "output_type": "stream",
     "text": [
      "There are 253 viewers that had at least 1 playback error during their session.\n"
     ]
    }
   ],
   "source": [
    "print('There are', len(df[df[\"totalPlaybackErrorCount\"] >= 1]), 'viewers that had at least 1 playback error during their session.')"
   ]
  },
  {
   "cell_type": "markdown",
   "metadata": {},
   "source": [
    "## Question 4\n",
    "\n",
    "We define the _concurrency_ as the number of viewers connected simustaneously on the __same content__, i.e the number of payloads we received during a given 2 minutes window on a given content."
   ]
  },
  {
   "cell_type": "code",
   "execution_count": 12,
   "metadata": {},
   "outputs": [],
   "source": [
    "# Subset of data focused on customer, Streamr*** TV\n",
    "strt_tv = df[df[\"company\"] == 'Streamroot TV']"
   ]
  },
  {
   "cell_type": "markdown",
   "metadata": {},
   "source": [
    "### 4.1 \n",
    "Add a column “readableDate” to the dataset that will be the beginning of the 2 minutes window during which the payload was sent. For example, if a payload was sent at 11:35, the column “readableDate” should be 11:33."
   ]
  },
  {
   "cell_type": "code",
   "execution_count": 13,
   "metadata": {},
   "outputs": [
    {
     "name": "stderr",
     "output_type": "stream",
     "text": [
      "<ipython-input-13-6ded8dfaa40b>:2: SettingWithCopyWarning: \n",
      "A value is trying to be set on a copy of a slice from a DataFrame.\n",
      "Try using .loc[row_indexer,col_indexer] = value instead\n",
      "\n",
      "See the caveats in the documentation: https://pandas.pydata.org/pandas-docs/stable/user_guide/indexing.html#returning-a-view-versus-a-copy\n",
      "  strt_tv[\"readableDate\"] = strt_tv['timestamp'] - 120000\n"
     ]
    }
   ],
   "source": [
    "# Subtract 120000 milliseconds, i.e. 2 minutes, from timestamp\n",
    "strt_tv[\"readableDate\"] = strt_tv['timestamp'] - 120000"
   ]
  },
  {
   "cell_type": "code",
   "execution_count": 14,
   "metadata": {},
   "outputs": [
    {
     "data": {
      "text/html": [
       "<div>\n",
       "<style scoped>\n",
       "    .dataframe tbody tr th:only-of-type {\n",
       "        vertical-align: middle;\n",
       "    }\n",
       "\n",
       "    .dataframe tbody tr th {\n",
       "        vertical-align: top;\n",
       "    }\n",
       "\n",
       "    .dataframe thead th {\n",
       "        text-align: right;\n",
       "    }\n",
       "</style>\n",
       "<table border=\"1\" class=\"dataframe\">\n",
       "  <thead>\n",
       "    <tr style=\"text-align: right;\">\n",
       "      <th></th>\n",
       "      <th>company</th>\n",
       "      <th>live</th>\n",
       "      <th>mediaEngine</th>\n",
       "      <th>p2p</th>\n",
       "      <th>cdn</th>\n",
       "      <th>upload</th>\n",
       "      <th>peers_count</th>\n",
       "      <th>peers_match</th>\n",
       "      <th>timestamp</th>\n",
       "      <th>sessionDuration</th>\n",
       "      <th>playbackErrorCount</th>\n",
       "      <th>totalPlaybackErrorCount</th>\n",
       "      <th>content</th>\n",
       "      <th>isFirstPayload</th>\n",
       "      <th>readableDate</th>\n",
       "    </tr>\n",
       "  </thead>\n",
       "  <tbody>\n",
       "    <tr>\n",
       "      <th>0</th>\n",
       "      <td>Streamroot TV</td>\n",
       "      <td>VOD</td>\n",
       "      <td>ME1</td>\n",
       "      <td>0.0</td>\n",
       "      <td>8507376.0</td>\n",
       "      <td>0.0</td>\n",
       "      <td>0.0</td>\n",
       "      <td>1</td>\n",
       "      <td>1562469807407</td>\n",
       "      <td>120000.0</td>\n",
       "      <td>0</td>\n",
       "      <td>0</td>\n",
       "      <td>content-09235</td>\n",
       "      <td>True</td>\n",
       "      <td>1562469687407</td>\n",
       "    </tr>\n",
       "    <tr>\n",
       "      <th>1</th>\n",
       "      <td>Streamroot TV</td>\n",
       "      <td>VOD</td>\n",
       "      <td>ME1</td>\n",
       "      <td>0.0</td>\n",
       "      <td>5778744.0</td>\n",
       "      <td>0.0</td>\n",
       "      <td>0.0</td>\n",
       "      <td>0</td>\n",
       "      <td>1562469927310</td>\n",
       "      <td>240000.0</td>\n",
       "      <td>0</td>\n",
       "      <td>0</td>\n",
       "      <td>content-09235</td>\n",
       "      <td>False</td>\n",
       "      <td>1562469807310</td>\n",
       "    </tr>\n",
       "    <tr>\n",
       "      <th>2</th>\n",
       "      <td>Streamroot TV</td>\n",
       "      <td>VOD</td>\n",
       "      <td>ME1</td>\n",
       "      <td>0.0</td>\n",
       "      <td>7692960.0</td>\n",
       "      <td>0.0</td>\n",
       "      <td>0.0</td>\n",
       "      <td>0</td>\n",
       "      <td>1562470047330</td>\n",
       "      <td>360000.0</td>\n",
       "      <td>0</td>\n",
       "      <td>0</td>\n",
       "      <td>content-09235</td>\n",
       "      <td>False</td>\n",
       "      <td>1562469927330</td>\n",
       "    </tr>\n",
       "    <tr>\n",
       "      <th>3</th>\n",
       "      <td>Streamroot TV</td>\n",
       "      <td>VOD</td>\n",
       "      <td>ME1</td>\n",
       "      <td>0.0</td>\n",
       "      <td>8229888.0</td>\n",
       "      <td>0.0</td>\n",
       "      <td>0.0</td>\n",
       "      <td>0</td>\n",
       "      <td>1562470167720</td>\n",
       "      <td>480000.0</td>\n",
       "      <td>0</td>\n",
       "      <td>0</td>\n",
       "      <td>content-09235</td>\n",
       "      <td>False</td>\n",
       "      <td>1562470047720</td>\n",
       "    </tr>\n",
       "    <tr>\n",
       "      <th>4</th>\n",
       "      <td>Streamroot TV</td>\n",
       "      <td>VOD</td>\n",
       "      <td>ME1</td>\n",
       "      <td>0.0</td>\n",
       "      <td>10387000.0</td>\n",
       "      <td>0.0</td>\n",
       "      <td>0.0</td>\n",
       "      <td>0</td>\n",
       "      <td>1562470287353</td>\n",
       "      <td>600000.0</td>\n",
       "      <td>0</td>\n",
       "      <td>0</td>\n",
       "      <td>content-09235</td>\n",
       "      <td>False</td>\n",
       "      <td>1562470167353</td>\n",
       "    </tr>\n",
       "  </tbody>\n",
       "</table>\n",
       "</div>"
      ],
      "text/plain": [
       "         company live mediaEngine  p2p         cdn  upload  peers_count  \\\n",
       "0  Streamroot TV  VOD         ME1  0.0   8507376.0     0.0          0.0   \n",
       "1  Streamroot TV  VOD         ME1  0.0   5778744.0     0.0          0.0   \n",
       "2  Streamroot TV  VOD         ME1  0.0   7692960.0     0.0          0.0   \n",
       "3  Streamroot TV  VOD         ME1  0.0   8229888.0     0.0          0.0   \n",
       "4  Streamroot TV  VOD         ME1  0.0  10387000.0     0.0          0.0   \n",
       "\n",
       "   peers_match      timestamp  sessionDuration  playbackErrorCount  \\\n",
       "0            1  1562469807407         120000.0                   0   \n",
       "1            0  1562469927310         240000.0                   0   \n",
       "2            0  1562470047330         360000.0                   0   \n",
       "3            0  1562470167720         480000.0                   0   \n",
       "4            0  1562470287353         600000.0                   0   \n",
       "\n",
       "   totalPlaybackErrorCount        content  isFirstPayload   readableDate  \n",
       "0                        0  content-09235            True  1562469687407  \n",
       "1                        0  content-09235           False  1562469807310  \n",
       "2                        0  content-09235           False  1562469927330  \n",
       "3                        0  content-09235           False  1562470047720  \n",
       "4                        0  content-09235           False  1562470167353  "
      ]
     },
     "execution_count": 14,
     "metadata": {},
     "output_type": "execute_result"
    }
   ],
   "source": [
    "strt_tv.head()"
   ]
  },
  {
   "cell_type": "markdown",
   "metadata": {},
   "source": [
    "### 4.2 \n",
    "Plot the concurrency time series for the content `content-05335`."
   ]
  },
  {
   "cell_type": "code",
   "execution_count": 15,
   "metadata": {},
   "outputs": [
    {
     "name": "stderr",
     "output_type": "stream",
     "text": [
      "<ipython-input-15-d8c89ee4d5f9>:2: SettingWithCopyWarning: \n",
      "A value is trying to be set on a copy of a slice from a DataFrame.\n",
      "Try using .loc[row_indexer,col_indexer] = value instead\n",
      "\n",
      "See the caveats in the documentation: https://pandas.pydata.org/pandas-docs/stable/user_guide/indexing.html#returning-a-view-versus-a-copy\n",
      "  strt_tv['timestamp'] = pd.to_datetime(strt_tv['timestamp'], unit='ms')\n",
      "<ipython-input-15-d8c89ee4d5f9>:3: SettingWithCopyWarning: \n",
      "A value is trying to be set on a copy of a slice from a DataFrame.\n",
      "Try using .loc[row_indexer,col_indexer] = value instead\n",
      "\n",
      "See the caveats in the documentation: https://pandas.pydata.org/pandas-docs/stable/user_guide/indexing.html#returning-a-view-versus-a-copy\n",
      "  strt_tv['readableDate'] = pd.to_datetime(strt_tv['readableDate'], unit='ms')\n"
     ]
    }
   ],
   "source": [
    "# Converting timestamp and readableDate to datetime objects\n",
    "strt_tv['timestamp'] = pd.to_datetime(strt_tv['timestamp'], unit='ms')\n",
    "strt_tv['readableDate'] = pd.to_datetime(strt_tv['readableDate'], unit='ms')"
   ]
  },
  {
   "cell_type": "code",
   "execution_count": 16,
   "metadata": {},
   "outputs": [],
   "source": [
    "# New dataframe, grouped by content and into 2 minute intervals, to capture concurrency\n",
    "concurrency_df = strt_tv.groupby(['content', pd.Grouper(key='readableDate', freq='2min')]).agg(\n",
    "    p2p_total=('p2p','sum'),\n",
    "    cdn_total=('cdn','sum'),\n",
    "    concurrency=('content','count'))\n"
   ]
  },
  {
   "cell_type": "code",
   "execution_count": 17,
   "metadata": {},
   "outputs": [
    {
     "data": {
      "text/plain": [
       "Text(0.5, 1.0, 'Concurrency Time Series for Content-05335')"
      ]
     },
     "execution_count": 17,
     "metadata": {},
     "output_type": "execute_result"
    },
    {
     "data": {
      "image/png": "[encoded data removed]",
      "text/plain": [
       "<Figure size 864x576 with 1 Axes>"
      ]
     },
     "metadata": {
      "needs_background": "light"
     },
     "output_type": "display_data"
    }
   ],
   "source": [
    "# Content 05335 dataframe and plotting concurrency\n",
    "content = concurrency_df[concurrency_df.index.get_level_values('content') == 'content-05335']\n",
    "\n",
    "plt.figure(figsize=(12,8))\n",
    "plt.plot(content.index.get_level_values('readableDate'), content['concurrency'], 'b-')\n",
    "plt.xlabel('Timestamp (UTC)', fontsize=18)\n",
    "plt.ylabel('Concurreny', fontsize=18)\n",
    "plt.title('Concurrency Time Series for Content-05335', fontsize=20)"
   ]
  },
  {
   "cell_type": "markdown",
   "metadata": {},
   "source": [
    "### 4.3 \n",
    "What is the average performance measured when the concurrency is lower\n",
    "than 10?"
   ]
  },
  {
   "cell_type": "code",
   "execution_count": 18,
   "metadata": {},
   "outputs": [],
   "source": [
    "# Dataframe for concurrencies less than 10 and resetting index for ease in looping over rows\n",
    "less_10 = concurrency_df[concurrency_df['concurrency'] < 10]\n",
    "less_10 = less_10.reset_index(level=0, drop=True)\n",
    "less_10 = less_10.reset_index()"
   ]
  },
  {
   "cell_type": "code",
   "execution_count": 19,
   "metadata": {},
   "outputs": [
    {
     "data": {
      "text/html": [
       "<div>\n",
       "<style scoped>\n",
       "    .dataframe tbody tr th:only-of-type {\n",
       "        vertical-align: middle;\n",
       "    }\n",
       "\n",
       "    .dataframe tbody tr th {\n",
       "        vertical-align: top;\n",
       "    }\n",
       "\n",
       "    .dataframe thead th {\n",
       "        text-align: right;\n",
       "    }\n",
       "</style>\n",
       "<table border=\"1\" class=\"dataframe\">\n",
       "  <thead>\n",
       "    <tr style=\"text-align: right;\">\n",
       "      <th></th>\n",
       "      <th>p2p_total</th>\n",
       "      <th>cdn_total</th>\n",
       "      <th>concurrency</th>\n",
       "    </tr>\n",
       "  </thead>\n",
       "  <tbody>\n",
       "    <tr>\n",
       "      <th>count</th>\n",
       "      <td>3.358550e+05</td>\n",
       "      <td>3.358550e+05</td>\n",
       "      <td>335855.000000</td>\n",
       "    </tr>\n",
       "    <tr>\n",
       "      <th>mean</th>\n",
       "      <td>9.293044e+06</td>\n",
       "      <td>7.814622e+06</td>\n",
       "      <td>1.089881</td>\n",
       "    </tr>\n",
       "    <tr>\n",
       "      <th>std</th>\n",
       "      <td>2.507707e+07</td>\n",
       "      <td>1.130071e+07</td>\n",
       "      <td>0.458941</td>\n",
       "    </tr>\n",
       "    <tr>\n",
       "      <th>min</th>\n",
       "      <td>0.000000e+00</td>\n",
       "      <td>0.000000e+00</td>\n",
       "      <td>1.000000</td>\n",
       "    </tr>\n",
       "    <tr>\n",
       "      <th>25%</th>\n",
       "      <td>0.000000e+00</td>\n",
       "      <td>0.000000e+00</td>\n",
       "      <td>1.000000</td>\n",
       "    </tr>\n",
       "    <tr>\n",
       "      <th>50%</th>\n",
       "      <td>0.000000e+00</td>\n",
       "      <td>3.901440e+06</td>\n",
       "      <td>1.000000</td>\n",
       "    </tr>\n",
       "    <tr>\n",
       "      <th>75%</th>\n",
       "      <td>9.259188e+06</td>\n",
       "      <td>1.154583e+07</td>\n",
       "      <td>1.000000</td>\n",
       "    </tr>\n",
       "    <tr>\n",
       "      <th>max</th>\n",
       "      <td>8.637543e+08</td>\n",
       "      <td>2.751384e+08</td>\n",
       "      <td>9.000000</td>\n",
       "    </tr>\n",
       "  </tbody>\n",
       "</table>\n",
       "</div>"
      ],
      "text/plain": [
       "          p2p_total     cdn_total    concurrency\n",
       "count  3.358550e+05  3.358550e+05  335855.000000\n",
       "mean   9.293044e+06  7.814622e+06       1.089881\n",
       "std    2.507707e+07  1.130071e+07       0.458941\n",
       "min    0.000000e+00  0.000000e+00       1.000000\n",
       "25%    0.000000e+00  0.000000e+00       1.000000\n",
       "50%    0.000000e+00  3.901440e+06       1.000000\n",
       "75%    9.259188e+06  1.154583e+07       1.000000\n",
       "max    8.637543e+08  2.751384e+08       9.000000"
      ]
     },
     "execution_count": 19,
     "metadata": {},
     "output_type": "execute_result"
    }
   ],
   "source": [
    "less_10.describe() \n",
    "# Note that the majority of the data for concurrencies less than 10 has a concurrency of 1"
   ]
  },
  {
   "cell_type": "code",
   "execution_count": 20,
   "metadata": {},
   "outputs": [],
   "source": [
    "# Calculate concurrency for each 2 minute interval and store in a list\n",
    "utility_rates = []\n",
    "\n",
    "for i in range(0,len(less_10)):\n",
    "    utility_rates.append(get_utility_rate(less_10['p2p_total'].iloc[i], less_10['cdn_total'].iloc[i]))"
   ]
  },
  {
   "cell_type": "code",
   "execution_count": 21,
   "metadata": {},
   "outputs": [],
   "source": [
    "# Remove any nan utility rates before averaging\n",
    "cleaned_utility_rates = [x for x in utility_rates if ~np.isnan(x)]"
   ]
  },
  {
   "cell_type": "code",
   "execution_count": 22,
   "metadata": {},
   "outputs": [
    {
     "name": "stdout",
     "output_type": "stream",
     "text": [
      "The average performance measured when the concurrency is lower than 10 is 0.40890922447555267\n"
     ]
    }
   ],
   "source": [
    "print('The average performance measured when the concurrency is lower than 10 is', np.mean(cleaned_utility_rates))"
   ]
  },
  {
   "cell_type": "markdown",
   "metadata": {},
   "source": [
    "### 4.4 \n",
    "Starting from which concurrency can we say there is a 75% chance that the performance on a content is higher than 80%?"
   ]
  },
  {
   "cell_type": "code",
   "execution_count": 23,
   "metadata": {},
   "outputs": [],
   "source": [
    "# Defining a function to plot boxplots for distribution of performance score based on concurrency\n",
    "def concurrency_to_boxplot(df, concurrency):\n",
    "    # Subset data by concurrency value\n",
    "    subset = df[df['concurrency'] == concurrency]\n",
    "    subset = subset.reset_index(level=0, drop=True)\n",
    "    subset = subset.reset_index()\n",
    "    \n",
    "    # Get all utility rates for subsetted data\n",
    "    utility_rates = []\n",
    "    \n",
    "    for i in range(0,len(subset)):\n",
    "        utility_rates.append(get_utility_rate(subset['p2p_total'].iloc[i], subset['cdn_total'].iloc[i]))\n",
    "        \n",
    "    # Remove any nan utility rates before averaging\n",
    "    cleaned_utility_rates = [x for x in utility_rates if ~np.isnan(x)]\n",
    "    \n",
    "    # Plotting the boxplot\n",
    "    plt.figure(1, figsize=(9, 6))\n",
    "    plt.boxplot(cleaned_utility_rates, showmeans=True)\n",
    "    plt.ylabel('Performance Score (Utility Rate)', fontsize = 18)\n",
    "    plt.title('Distribution of Performance Scores for Concurrency of ' + str(concurrency), fontsize = 18)"
   ]
  },
  {
   "cell_type": "code",
   "execution_count": 24,
   "metadata": {},
   "outputs": [
    {
     "data": {
      "image/png": "[encoded data removed]",
      "text/plain": [
       "<Figure size 648x432 with 1 Axes>"
      ]
     },
     "metadata": {
      "needs_background": "light"
     },
     "output_type": "display_data"
    }
   ],
   "source": [
    "concurrency_to_boxplot(concurrency_df, 1)"
   ]
  },
  {
   "cell_type": "code",
   "execution_count": 25,
   "metadata": {},
   "outputs": [
    {
     "data": {
      "image/png": "[encoded data removed]",
      "text/plain": [
       "<Figure size 648x432 with 1 Axes>"
      ]
     },
     "metadata": {
      "needs_background": "light"
     },
     "output_type": "display_data"
    }
   ],
   "source": [
    "concurrency_to_boxplot(concurrency_df, 2)"
   ]
  },
  {
   "cell_type": "code",
   "execution_count": 26,
   "metadata": {},
   "outputs": [
    {
     "data": {
      "image/png": "[encoded data removed]",
      "text/plain": [
       "<Figure size 648x432 with 1 Axes>"
      ]
     },
     "metadata": {
      "needs_background": "light"
     },
     "output_type": "display_data"
    }
   ],
   "source": [
    "concurrency_to_boxplot(concurrency_df, 3)"
   ]
  },
  {
   "cell_type": "markdown",
   "metadata": {},
   "source": [
    "Answer: Starting at a concurrency of 3, we can say there is a 75% chance that the performance on a content is higher than 80%. The 25th percentile shown in a boxplot represents the point where 75% of the data falls above that value. In the boxplots above, a concurrency of 3 is the first value where the 25th percentile falls above 0.80."
   ]
  },
  {
   "cell_type": "code",
   "execution_count": null,
   "metadata": {},
   "outputs": [],
   "source": []
  }
 ],
 "metadata": {
  "kernelspec": {
   "display_name": "Python 3",
   "language": "python",
   "name": "python3"
  },
  "language_info": {
   "codemirror_mode": {
    "name": "ipython",
    "version": 3
   },
   "file_extension": ".py",
   "mimetype": "text/x-python",
   "name": "python",
   "nbconvert_exporter": "python",
   "pygments_lexer": "ipython3",
   "version": "3.8.5"
  }
 },
 "nbformat": 4,
 "nbformat_minor": 4
}
